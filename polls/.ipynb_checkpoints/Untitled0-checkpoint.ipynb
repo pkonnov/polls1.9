{
 "metadata": {
  "name": "",
  "signature": "sha256:f37bb640d10ef67799c4821122f2af92fa5fe1c5b3f5ae4b62d69532a56f9091"
 },
 "nbformat": 3,
 "nbformat_minor": 0,
 "worksheets": []
}